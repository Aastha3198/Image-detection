{
 "cells": [
  {
   "cell_type": "markdown",
   "id": "b7526271",
   "metadata": {},
   "source": [
    "# Checking the flower name using the image from the user"
   ]
  },
  {
   "cell_type": "code",
   "execution_count": 3,
   "id": "a524fc48",
   "metadata": {},
   "outputs": [
    {
     "name": "stdout",
     "output_type": "stream",
     "text": [
      "1/1 [==============================] - 0s 96ms/step\n",
      "Daisy\n"
     ]
    }
   ],
   "source": [
    "import cv2\n",
    "from PIL import Image\n",
    "import numpy as np\n",
    "import tensorflow as tf\n",
    "\n",
    "model=tf.keras.models.load_model('Flower_name_detection.h5')\n",
    "test_image=tf.keras.preprocessing.image.load_img('image_flower3.jpg',target_size=(224,224))\n",
    "test_img=tf.keras.preprocessing.image.img_to_array(test_image)\n",
    "test_img = np.expand_dims(test_img, axis=0)\n",
    "result=model.predict(test_img)\n",
    "\n",
    "# To get the position name use the below code:\n",
    "if result[0][0]==1:\n",
    "    print('Daisy')\n",
    "elif result[0][1]==1:\n",
    "    print('Dandelion')\n",
    "elif result[0][2]==1:\n",
    "    print('Rose')\n",
    "elif result[0][3]==1:\n",
    "    print('Sunflower')\n",
    "elif result[0][4]==1:\n",
    "    print('Tulip')"
   ]
  }
 ],
 "metadata": {
  "kernelspec": {
   "display_name": "Python 3 (ipykernel)",
   "language": "python",
   "name": "python3"
  },
  "language_info": {
   "codemirror_mode": {
    "name": "ipython",
    "version": 3
   },
   "file_extension": ".py",
   "mimetype": "text/x-python",
   "name": "python",
   "nbconvert_exporter": "python",
   "pygments_lexer": "ipython3",
   "version": "3.11.4"
  }
 },
 "nbformat": 4,
 "nbformat_minor": 5
}
