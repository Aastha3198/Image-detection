{
 "cells": [
  {
   "cell_type": "code",
   "execution_count": 1,
   "id": "e8d52c7b",
   "metadata": {},
   "outputs": [
    {
     "name": "stdout",
     "output_type": "stream",
     "text": [
      "WARNING:tensorflow:From C:\\Users\\ASUS\\anaconda3\\Lib\\site-packages\\keras\\src\\losses.py:2976: The name tf.losses.sparse_softmax_cross_entropy is deprecated. Please use tf.compat.v1.losses.sparse_softmax_cross_entropy instead.\n",
      "\n"
     ]
    }
   ],
   "source": [
    "import numpy as np\n",
    "import tensorflow as tf\n",
    "import seaborn as sns\n",
    "import matplotlib.pyplot as plt\n",
    "from PIL import Image"
   ]
  },
  {
   "cell_type": "code",
   "execution_count": 2,
   "id": "6db52f43",
   "metadata": {},
   "outputs": [],
   "source": [
    "data=tf.keras.datasets.mnist    # keras is built in in tensor flow (but both are different things)\n",
    "(X_train,Y_train),(X_test,Y_test)=data.load_data()"
   ]
  },
  {
   "cell_type": "code",
   "execution_count": 3,
   "id": "6156e2bd",
   "metadata": {},
   "outputs": [
    {
     "data": {
      "text/plain": [
       "(60000, 28, 28)"
      ]
     },
     "execution_count": 3,
     "metadata": {},
     "output_type": "execute_result"
    }
   ],
   "source": [
    "X_train.shape"
   ]
  },
  {
   "cell_type": "code",
   "execution_count": 4,
   "id": "327e5dae",
   "metadata": {
    "scrolled": true
   },
   "outputs": [
    {
     "data": {
      "image/png": "[encoded data removed]",
      "text/plain": [
       "<Figure size 640x480 with 1 Axes>"
      ]
     },
     "metadata": {},
     "output_type": "display_data"
    }
   ],
   "source": [
    "X_train[0]\n",
    "image=X_train[0]\n",
    "\n",
    "plt.imshow(image,cmap='gray')\n",
    "plt.show()"
   ]
  },
  {
   "cell_type": "code",
   "execution_count": 5,
   "id": "793dcc68",
   "metadata": {},
   "outputs": [
    {
     "data": {
      "image/png": "[encoded data removed]",
      "text/plain": [
       "<Figure size 640x480 with 1 Axes>"
      ]
     },
     "metadata": {},
     "output_type": "display_data"
    }
   ],
   "source": [
    "X_train[101]\n",
    "image=X_train[101]\n",
    "\n",
    "plt.imshow(image,cmap='gray')\n",
    "plt.show()"
   ]
  },
  {
   "cell_type": "code",
   "execution_count": 6,
   "id": "1b023b99",
   "metadata": {},
   "outputs": [],
   "source": [
    "X_train=X_train.reshape(-1,28,28,1)  # -1 here is for all the images in the data (that is 60000), and 1 for color channel(black)\n",
    "X_test=X_test.reshape(-1,28,28,1)                      # 3 instead of 1 is colored image"
   ]
  },
  {
   "cell_type": "code",
   "execution_count": 7,
   "id": "e9e98660",
   "metadata": {},
   "outputs": [],
   "source": [
    "X_train=X_train.astype('float')       # just to be on safe side use float\n",
    "X_test=X_test.astype('float')"
   ]
  },
  {
   "cell_type": "code",
   "execution_count": 8,
   "id": "a1ea4180",
   "metadata": {},
   "outputs": [],
   "source": [
    "X_train_N=X_train/255.0\n",
    "X_test_N=X_test/255.0"
   ]
  },
  {
   "cell_type": "code",
   "execution_count": 9,
   "id": "8b51d12c",
   "metadata": {},
   "outputs": [
    {
     "data": {
      "text/plain": [
       "7"
      ]
     },
     "execution_count": 9,
     "metadata": {},
     "output_type": "execute_result"
    }
   ],
   "source": [
    "Y_test[0]   #This is normal that is not converted using one hot encoder"
   ]
  },
  {
   "cell_type": "markdown",
   "id": "92fc1745",
   "metadata": {},
   "source": [
    "# cnn- Convolutional neural network\n",
    "This cnn acts as a retina of an eye (as how eye detects things)"
   ]
  },
  {
   "cell_type": "code",
   "execution_count": 10,
   "id": "81817a49",
   "metadata": {},
   "outputs": [
    {
     "name": "stdout",
     "output_type": "stream",
     "text": [
      "WARNING:tensorflow:From C:\\Users\\ASUS\\anaconda3\\Lib\\site-packages\\keras\\src\\backend.py:873: The name tf.get_default_graph is deprecated. Please use tf.compat.v1.get_default_graph instead.\n",
      "\n",
      "WARNING:tensorflow:From C:\\Users\\ASUS\\anaconda3\\Lib\\site-packages\\keras\\src\\layers\\pooling\\max_pooling2d.py:161: The name tf.nn.max_pool is deprecated. Please use tf.nn.max_pool2d instead.\n",
      "\n"
     ]
    }
   ],
   "source": [
    "digit_model=tf.keras.models.Sequential()\n",
    "\n",
    "digit_model.add(tf.keras.layers.Conv2D(8,(3,3),activation='relu',input_shape=(28,28,1)))   # 8 is no. of columns\n",
    "\n",
    "# To reduce size, we can apply max pool\n",
    "digit_model.add(tf.keras.layers.MaxPool2D((2,2)))#bydefault stried is 1(single column shift is applied)(we can add it on our own)\n",
    "\n",
    "digit_model.add(tf.keras.layers.Flatten())\n",
    "\n",
    "# ANN\n",
    "digit_model.add(tf.keras.layers.Dense(units=12,activation='relu'))\n",
    "\n",
    "digit_model.add(tf.keras.layers.Dense(units=10,activation='softmax'))  # Softmax is used as problem is categorical"
   ]
  },
  {
   "cell_type": "code",
   "execution_count": 11,
   "id": "2d30ae29",
   "metadata": {},
   "outputs": [
    {
     "name": "stdout",
     "output_type": "stream",
     "text": [
      "WARNING:tensorflow:From C:\\Users\\ASUS\\anaconda3\\Lib\\site-packages\\keras\\src\\optimizers\\__init__.py:309: The name tf.train.Optimizer is deprecated. Please use tf.compat.v1.train.Optimizer instead.\n",
      "\n"
     ]
    }
   ],
   "source": [
    "digit_model.compile(optimizer='adam',loss='sparse_categorical_crossentropy',metrics=['accuracy'])"
   ]
  },
  {
   "cell_type": "code",
   "execution_count": 12,
   "id": "8ce1543f",
   "metadata": {},
   "outputs": [
    {
     "name": "stdout",
     "output_type": "stream",
     "text": [
      "Epoch 1/5\n",
      "WARNING:tensorflow:From C:\\Users\\ASUS\\anaconda3\\Lib\\site-packages\\keras\\src\\utils\\tf_utils.py:492: The name tf.ragged.RaggedTensorValue is deprecated. Please use tf.compat.v1.ragged.RaggedTensorValue instead.\n",
      "\n",
      "WARNING:tensorflow:From C:\\Users\\ASUS\\anaconda3\\Lib\\site-packages\\keras\\src\\engine\\base_layer_utils.py:384: The name tf.executing_eagerly_outside_functions is deprecated. Please use tf.compat.v1.executing_eagerly_outside_functions instead.\n",
      "\n",
      "1875/1875 [==============================] - 6s 3ms/step - loss: 2.2257 - accuracy: 0.1913 - val_loss: 2.0271 - val_accuracy: 0.2150\n",
      "Epoch 2/5\n",
      "1875/1875 [==============================] - 5s 3ms/step - loss: 1.4997 - accuracy: 0.4218 - val_loss: 1.0782 - val_accuracy: 0.5967\n",
      "Epoch 3/5\n",
      "1875/1875 [==============================] - 5s 3ms/step - loss: 0.4707 - accuracy: 0.8551 - val_loss: 0.2057 - val_accuracy: 0.9401\n",
      "Epoch 4/5\n",
      "1875/1875 [==============================] - 5s 3ms/step - loss: 0.1719 - accuracy: 0.9504 - val_loss: 0.1569 - val_accuracy: 0.9540\n",
      "Epoch 5/5\n",
      "1875/1875 [==============================] - 5s 3ms/step - loss: 0.1382 - accuracy: 0.9597 - val_loss: 0.1460 - val_accuracy: 0.9609\n"
     ]
    },
    {
     "data": {
      "text/plain": [
       "<keras.src.callbacks.History at 0x2213f2ca190>"
      ]
     },
     "execution_count": 12,
     "metadata": {},
     "output_type": "execute_result"
    }
   ],
   "source": [
    "digit_model.fit(X_train,Y_train,validation_data=(X_test,Y_test),epochs=5)"
   ]
  },
  {
   "cell_type": "code",
   "execution_count": 13,
   "id": "ff859b10",
   "metadata": {},
   "outputs": [
    {
     "name": "stdout",
     "output_type": "stream",
     "text": [
      "313/313 [==============================] - 1s 2ms/step\n"
     ]
    },
    {
     "data": {
      "text/plain": [
       "7"
      ]
     },
     "execution_count": 13,
     "metadata": {},
     "output_type": "execute_result"
    }
   ],
   "source": [
    "digit_model.predict(X_test)[0].argmax()"
   ]
  },
  {
   "cell_type": "code",
   "execution_count": 14,
   "id": "676d4c24",
   "metadata": {},
   "outputs": [
    {
     "data": {
      "text/plain": [
       "7"
      ]
     },
     "execution_count": 14,
     "metadata": {},
     "output_type": "execute_result"
    }
   ],
   "source": [
    "Y_test[0]"
   ]
  },
  {
   "cell_type": "code",
   "execution_count": 15,
   "id": "915d5f9b",
   "metadata": {},
   "outputs": [
    {
     "data": {
      "text/plain": [
       "9"
      ]
     },
     "execution_count": 15,
     "metadata": {},
     "output_type": "execute_result"
    }
   ],
   "source": [
    "Y_test[7]"
   ]
  },
  {
   "cell_type": "code",
   "execution_count": 16,
   "id": "46a01eea",
   "metadata": {},
   "outputs": [
    {
     "name": "stdout",
     "output_type": "stream",
     "text": [
      "313/313 [==============================] - 1s 2ms/step\n"
     ]
    },
    {
     "data": {
      "text/plain": [
       "9"
      ]
     },
     "execution_count": 16,
     "metadata": {},
     "output_type": "execute_result"
    }
   ],
   "source": [
    "digit_model.predict(X_test)[7].argmax()"
   ]
  },
  {
   "cell_type": "code",
   "execution_count": 20,
   "id": "49b8d30a",
   "metadata": {},
   "outputs": [],
   "source": [
    "# Testing the data if correct or not"
   ]
  },
  {
   "cell_type": "code",
   "execution_count": 17,
   "id": "42485a99",
   "metadata": {},
   "outputs": [
    {
     "data": {
      "image/png": "[encoded data removed]",
      "text/plain": [
       "<Figure size 640x480 with 1 Axes>"
      ]
     },
     "metadata": {},
     "output_type": "display_data"
    }
   ],
   "source": [
    "image = X_test[67]\n",
    "plt.imshow(image,cmap='gray')\n",
    "plt.show()"
   ]
  },
  {
   "cell_type": "code",
   "execution_count": 18,
   "id": "56487d70",
   "metadata": {},
   "outputs": [
    {
     "data": {
      "text/plain": [
       "4"
      ]
     },
     "execution_count": 18,
     "metadata": {},
     "output_type": "execute_result"
    }
   ],
   "source": [
    "Y_test[67]"
   ]
  },
  {
   "cell_type": "code",
   "execution_count": 19,
   "id": "33d5b112",
   "metadata": {},
   "outputs": [
    {
     "name": "stdout",
     "output_type": "stream",
     "text": [
      "313/313 [==============================] - 0s 1ms/step\n"
     ]
    },
    {
     "data": {
      "text/plain": [
       "2"
      ]
     },
     "execution_count": 19,
     "metadata": {},
     "output_type": "execute_result"
    }
   ],
   "source": [
    "digit_model.predict(X_test)[1].argmax()"
   ]
  },
  {
   "cell_type": "code",
   "execution_count": null,
   "id": "c3b164c8",
   "metadata": {},
   "outputs": [],
   "source": []
  },
  {
   "cell_type": "markdown",
   "id": "20338dec",
   "metadata": {},
   "source": [
    "# How to take image from user, done below:-"
   ]
  },
  {
   "cell_type": "code",
   "execution_count": 24,
   "id": "d8228ac4",
   "metadata": {},
   "outputs": [
    {
     "name": "stdout",
     "output_type": "stream",
     "text": [
      "1/1 [==============================] - 0s 28ms/step\n",
      "Predicted Digit: 1\n"
     ]
    }
   ],
   "source": [
    "# Load and preprocess your custom image\n",
    "custom_image = Image.open('Untitled.jpg')\n",
    "custom_image = custom_image.resize((28, 28))\n",
    "custom_image = custom_image.convert('L')  # Convert to grayscale\n",
    "custom_image = np.invert(np.array(custom_image)) / 255.0\n",
    "# custom_image = np.invert(custom_image)\n",
    "custom_image = custom_image.reshape(1, 28, 28, 1)  # Reshape for prediction # 1 here is for 1 image\n",
    "\n",
    "# Perform prediction\n",
    "predictions = digit_model.predict(custom_image)\n",
    "predicted_class = np.argmax(predictions)\n",
    "\n",
    "print(\"Predicted Digit:\", predicted_class)"
   ]
  },
  {
   "cell_type": "code",
   "execution_count": 25,
   "id": "47e43f51",
   "metadata": {},
   "outputs": [
    {
     "name": "stdout",
     "output_type": "stream",
     "text": [
      "1/1 [==============================] - 0s 37ms/step\n",
      "Predicted Digit: 1\n"
     ]
    }
   ],
   "source": [
    "custom_image = Image.open('Untitled1.jpg')\n",
    "custom_image = custom_image.resize((28, 28))\n",
    "custom_image = custom_image.convert('L')  # Convert to grayscale\n",
    "custom_image = np.invert(np.array(custom_image)) / 255.0\n",
    "# custom_image = np.invert(custom_image)\n",
    "custom_image = custom_image.reshape(1, 28, 28, 1)  # Reshape for prediction # 1 here is for 1 image\n",
    "\n",
    "# Perform prediction\n",
    "predictions = digit_model.predict(custom_image)\n",
    "predicted_class = np.argmax(predictions)\n",
    "\n",
    "print(\"Predicted Digit:\", predicted_class)"
   ]
  },
  {
   "cell_type": "code",
   "execution_count": 26,
   "id": "4c19569f",
   "metadata": {},
   "outputs": [
    {
     "name": "stdout",
     "output_type": "stream",
     "text": [
      "1/1 [==============================] - 0s 34ms/step\n",
      "Predicted Digit: 1\n"
     ]
    }
   ],
   "source": [
    "custom_image = Image.open('Untitled2.jpg')\n",
    "custom_image = custom_image.resize((28, 28))\n",
    "custom_image = custom_image.convert('L')  # Convert to grayscale\n",
    "custom_image = np.invert(np.array(custom_image)) / 255.0\n",
    "# custom_image = np.invert(custom_image)\n",
    "custom_image = custom_image.reshape(1, 28, 28, 1)  # Reshape for prediction # 1 here is for 1 image\n",
    "\n",
    "# Perform prediction\n",
    "predictions = digit_model.predict(custom_image)\n",
    "predicted_class = np.argmax(predictions)\n",
    "\n",
    "print(\"Predicted Digit:\", predicted_class)"
   ]
  },
  {
   "cell_type": "code",
   "execution_count": 27,
   "id": "23bca01a",
   "metadata": {},
   "outputs": [
    {
     "name": "stdout",
     "output_type": "stream",
     "text": [
      "1/1 [==============================] - 0s 42ms/step\n",
      "Predicted Digit: 1\n"
     ]
    }
   ],
   "source": [
    "custom_image = Image.open('Untitled3.jpg')\n",
    "custom_image = custom_image.resize((28, 28))\n",
    "custom_image = custom_image.convert('L')  # Convert to grayscale\n",
    "custom_image = np.invert(np.array(custom_image)) / 255.0\n",
    "# custom_image = np.invert(custom_image)\n",
    "custom_image = custom_image.reshape(1, 28, 28, 1)  # Reshape for prediction # 1 here is for 1 image\n",
    "\n",
    "# Perform prediction\n",
    "predictions = digit_model.predict(custom_image)\n",
    "predicted_class = np.argmax(predictions)\n",
    "\n",
    "print(\"Predicted Digit:\", predicted_class)"
   ]
  },
  {
   "cell_type": "code",
   "execution_count": null,
   "id": "fac983c2",
   "metadata": {},
   "outputs": [],
   "source": []
  }
 ],
 "metadata": {
  "kernelspec": {
   "display_name": "Python 3 (ipykernel)",
   "language": "python",
   "name": "python3"
  },
  "language_info": {
   "codemirror_mode": {
    "name": "ipython",
    "version": 3
   },
   "file_extension": ".py",
   "mimetype": "text/x-python",
   "name": "python",
   "nbconvert_exporter": "python",
   "pygments_lexer": "ipython3",
   "version": "3.11.4"
  }
 },
 "nbformat": 4,
 "nbformat_minor": 5
}
