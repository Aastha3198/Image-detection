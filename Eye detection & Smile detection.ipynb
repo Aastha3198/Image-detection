{
 "cells": [
  {
   "cell_type": "markdown",
   "id": "3c701fa0",
   "metadata": {},
   "source": [
    "# Eyes Detection"
   ]
  },
  {
   "cell_type": "code",
   "execution_count": 2,
   "id": "efe434bd",
   "metadata": {},
   "outputs": [],
   "source": [
    "import cv2\n",
    "import numpy as np\n",
    "from PIL import Image"
   ]
  },
  {
   "cell_type": "code",
   "execution_count": 3,
   "id": "66f5fd57",
   "metadata": {},
   "outputs": [],
   "source": [
    "eye_detection=cv2.CascadeClassifier('haarcascade_eye.xml')"
   ]
  },
  {
   "cell_type": "code",
   "execution_count": 4,
   "id": "6fb4f7da",
   "metadata": {},
   "outputs": [],
   "source": [
    "image=cv2.imread('image.jpg')"
   ]
  },
  {
   "cell_type": "code",
   "execution_count": 5,
   "id": "a324efb3",
   "metadata": {},
   "outputs": [],
   "source": [
    "cv2.imshow('Avengers',image)\n",
    "cv2.waitKey(0)              # here 0 means image will display infinitely times until we press some key or remove it by ourself\n",
    "cv2.destroyAllWindows()"
   ]
  },
  {
   "cell_type": "code",
   "execution_count": 6,
   "id": "aa079b5f",
   "metadata": {},
   "outputs": [],
   "source": [
    "grey_image=cv2.cvtColor(image,cv2.COLOR_BGR2GRAY)"
   ]
  },
  {
   "cell_type": "code",
   "execution_count": 19,
   "id": "730e681d",
   "metadata": {},
   "outputs": [
    {
     "data": {
      "text/plain": [
       "array([[ 632,  947,   51,   51],\n",
       "       [  89,  617,   20,   20],\n",
       "       [ 121,  612,   32,   32],\n",
       "       [ 506,  635,   51,   51],\n",
       "       [ 582,  964,   20,   20],\n",
       "       [ 390,  146,  131,  131],\n",
       "       [ 302,  202,   51,   51],\n",
       "       [ 407,  183,   82,   82],\n",
       "       [ 973,  743,   51,   51],\n",
       "       [1034,  747,   51,   51],\n",
       "       [ 228,  280,   51,   51],\n",
       "       [  22,  859,   32,   32],\n",
       "       [ 228,  874,   51,   51],\n",
       "       [ 176,  874,   32,   32]])"
      ]
     },
     "execution_count": 19,
     "metadata": {},
     "output_type": "execute_result"
    }
   ],
   "source": [
    "eyes=eye_detection.detectMultiScale(grey_image,1.6)\n",
    "eyes"
   ]
  },
  {
   "cell_type": "code",
   "execution_count": 20,
   "id": "69be5964",
   "metadata": {},
   "outputs": [],
   "source": [
    "for x,y,w,h in eyes:\n",
    "    cv2.rectangle(image,(x,y),(x+w,y+h),(0,0,139),2)\n",
    "cv2.imshow('Avengers',image)\n",
    "cv2.waitKey(0)              \n",
    "cv2.destroyAllWindows()"
   ]
  },
  {
   "cell_type": "code",
   "execution_count": 21,
   "id": "9f1bc8c1",
   "metadata": {},
   "outputs": [],
   "source": [
    "cap=cv2.VideoCapture(0)\n",
    "\n",
    "while True:\n",
    "    _,frame=cap.read()     # this_ represents no use\n",
    "    grey_eye=cv2.cvtColor(frame,cv2.COLOR_BGR2GRAY)\n",
    "    eyes=eye_detection.detectMultiScale(grey_eye,1.6)\n",
    "    for (x,y,w,h) in eyes:\n",
    "        cv2.rectangle(frame,(x,y),(x+w,y+h),(0,0,139),2)\n",
    "\n",
    "        name=\"abc\"\n",
    "        \n",
    "        # This is used to add name as text on the rectangle\n",
    "        cv2.putText(frame,name,(x,y-10),cv2.FONT_HERSHEY_SIMPLEX,0.5,(0,0,139),2)\n",
    "    \n",
    "    cv2.imshow('Eye detection',frame)           # Eye detection is the title here\n",
    "    if cv2.waitKey(1) & 0xFF==ord('q'):          # odd code, if we press q from keyword then only it breaks/ or get canceled\n",
    "        break\n",
    "cap.release()              \n",
    "cv2.destroyAllWindows()"
   ]
  },
  {
   "cell_type": "code",
   "execution_count": null,
   "id": "2aefb4cd",
   "metadata": {},
   "outputs": [],
   "source": []
  },
  {
   "cell_type": "code",
   "execution_count": null,
   "id": "53004e88",
   "metadata": {},
   "outputs": [],
   "source": []
  },
  {
   "cell_type": "markdown",
   "id": "aa8a6fad",
   "metadata": {},
   "source": [
    "# Smile detection"
   ]
  },
  {
   "cell_type": "code",
   "execution_count": 22,
   "id": "1c610567",
   "metadata": {},
   "outputs": [],
   "source": [
    "import cv2\n",
    "import numpy as np\n",
    "from PIL import Image"
   ]
  },
  {
   "cell_type": "code",
   "execution_count": 23,
   "id": "d2708caf",
   "metadata": {},
   "outputs": [],
   "source": [
    "smile_detection=cv2.CascadeClassifier('haarcascade_smile.xml')"
   ]
  },
  {
   "cell_type": "code",
   "execution_count": 25,
   "id": "b49f4f7d",
   "metadata": {},
   "outputs": [],
   "source": [
    "cap=cv2.VideoCapture(0)\n",
    "\n",
    "while True:\n",
    "    _,frame=cap.read()     # this_ represents no use\n",
    "    grey_smile=cv2.cvtColor(frame,cv2.COLOR_BGR2GRAY)\n",
    "    smile=smile_detection.detectMultiScale(grey_smile,1.6)\n",
    "    for (x,y,w,h) in smile:\n",
    "        cv2.rectangle(frame,(x,y),(x+w,y+h),(0,0,139),2)\n",
    "\n",
    "        name=\"abc\"\n",
    "        \n",
    "        # This is used to add name as text on the rectangle\n",
    "        cv2.putText(frame,name,(x,y-10),cv2.FONT_HERSHEY_SIMPLEX,0.5,(0,0,139),2)\n",
    "    \n",
    "    cv2.imshow('Smile detection',frame)           # Eye detection is the title here\n",
    "    if cv2.waitKey(1) & 0xFF==ord('q'):          # odd code, if we press q from keyword then only it breaks/ or get canceled\n",
    "        break\n",
    "cap.release()              \n",
    "cv2.destroyAllWindows()"
   ]
  },
  {
   "cell_type": "code",
   "execution_count": null,
   "id": "07a0871e",
   "metadata": {},
   "outputs": [],
   "source": []
  }
 ],
 "metadata": {
  "kernelspec": {
   "display_name": "Python 3 (ipykernel)",
   "language": "python",
   "name": "python3"
  },
  "language_info": {
   "codemirror_mode": {
    "name": "ipython",
    "version": 3
   },
   "file_extension": ".py",
   "mimetype": "text/x-python",
   "name": "python",
   "nbconvert_exporter": "python",
   "pygments_lexer": "ipython3",
   "version": "3.11.4"
  }
 },
 "nbformat": 4,
 "nbformat_minor": 5
}
