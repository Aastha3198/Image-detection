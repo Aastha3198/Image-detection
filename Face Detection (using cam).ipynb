{
 "cells": [
  {
   "cell_type": "code",
   "execution_count": null,
   "id": "dba1ef04",
   "metadata": {},
   "outputs": [],
   "source": [
    "pip install opencv-python"
   ]
  },
  {
   "cell_type": "code",
   "execution_count": 4,
   "id": "e46b8606",
   "metadata": {
    "scrolled": true
   },
   "outputs": [],
   "source": [
    "import cv2\n",
    "import numpy as np\n",
    "from PIL import Image"
   ]
  },
  {
   "cell_type": "code",
   "execution_count": 2,
   "id": "0074a325",
   "metadata": {},
   "outputs": [],
   "source": [
    "# Pick this from haarcascades\n",
    "face_detection=cv2.CascadeClassifier('haarcascade_frontalface_default.xml')"
   ]
  },
  {
   "cell_type": "code",
   "execution_count": 3,
   "id": "011a9bbd",
   "metadata": {},
   "outputs": [],
   "source": [
    "image=cv2.imread('image.jpg')"
   ]
  },
  {
   "cell_type": "code",
   "execution_count": 4,
   "id": "bb2165b5",
   "metadata": {},
   "outputs": [],
   "source": [
    "cv2.imshow('Avengers',image)\n",
    "cv2.waitKey(0)              # here 0 means image will display infinitely times until we press some key or remove it by ourself\n",
    "cv2.destroyAllWindows()"
   ]
  },
  {
   "cell_type": "code",
   "execution_count": 5,
   "id": "d376b480",
   "metadata": {},
   "outputs": [],
   "source": [
    "# Convert it to grey scale\n",
    "grey_image=cv2.cvtColor(image,cv2.COLOR_BGR2GRAY)"
   ]
  },
  {
   "cell_type": "code",
   "execution_count": 6,
   "id": "d31099fb",
   "metadata": {},
   "outputs": [
    {
     "data": {
      "text/plain": [
       "array([[ 193,   58,  403,  403],\n",
       "       [ 949,  709,  157,  157],\n",
       "       [ 324, 1067,   98,   98],\n",
       "       [  68,  588,   98,   98],\n",
       "       [   8,  836,   98,   98],\n",
       "       [ 477,  599,  157,  157],\n",
       "       [ 735,  295,  252,  252]])"
      ]
     },
     "execution_count": 6,
     "metadata": {},
     "output_type": "execute_result"
    }
   ],
   "source": [
    "faces=face_detection.detectMultiScale(grey_image,1.6)\n",
    "faces"
   ]
  },
  {
   "cell_type": "code",
   "execution_count": 7,
   "id": "b0d94330",
   "metadata": {},
   "outputs": [],
   "source": [
    "# This forms rectangle around the face\n",
    "for x,y,w,h in faces:\n",
    "    cv2.rectangle(image,(x,y),(x+w,y+h),(0,0,139),2)\n",
    "cv2.imshow('Avengers',image)\n",
    "cv2.waitKey(0)              \n",
    "cv2.destroyAllWindows()"
   ]
  },
  {
   "cell_type": "code",
   "execution_count": null,
   "id": "b0ae38ff",
   "metadata": {},
   "outputs": [],
   "source": []
  },
  {
   "cell_type": "code",
   "execution_count": null,
   "id": "b2a752ed",
   "metadata": {},
   "outputs": [],
   "source": [
    "# Doing it for face detection, give access to cam first"
   ]
  },
  {
   "cell_type": "code",
   "execution_count": 3,
   "id": "41171112",
   "metadata": {},
   "outputs": [],
   "source": [
    "cap=cv2.VideoCapture(0)\n",
    "\n",
    "while True:\n",
    "    _,frame=cap.read()     # this_ represents no use\n",
    "    grey_face=cv2.cvtColor(frame,cv2.COLOR_BGR2GRAY)\n",
    "    faces=face_detection.detectMultiScale(grey_face,1.6)\n",
    "    for (x,y,w,h) in faces:\n",
    "        cv2.rectangle(frame,(x,y),(x+w,y+h),(0,0,139),2)\n",
    "\n",
    "        name=\"Aastha\"\n",
    "        \n",
    "        # This is used to add name as text on the rectangle\n",
    "        cv2.putText(frame,name,(x,y-10),cv2.FONT_HERSHEY_SIMPLEX,0.5,(0,0,139),2)\n",
    "    \n",
    "    cv2.imshow('Face detection',frame)           # Face detection is the title here\n",
    "    if cv2.waitKey(1) & 0xFF==ord('q'):          # odd code, if we press q from keyword then only it breaks/ or get canceled\n",
    "        break\n",
    "cap.release()              \n",
    "cv2.destroyAllWindows()"
   ]
  }
 ],
 "metadata": {
  "kernelspec": {
   "display_name": "Python 3 (ipykernel)",
   "language": "python",
   "name": "python3"
  },
  "language_info": {
   "codemirror_mode": {
    "name": "ipython",
    "version": 3
   },
   "file_extension": ".py",
   "mimetype": "text/x-python",
   "name": "python",
   "nbconvert_exporter": "python",
   "pygments_lexer": "ipython3",
   "version": "3.11.4"
  }
 },
 "nbformat": 4,
 "nbformat_minor": 5
}
